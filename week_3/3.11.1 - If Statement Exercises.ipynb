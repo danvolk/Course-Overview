{
 "cells": [
  {
   "cell_type": "markdown",
   "metadata": {},
   "source": [
    "The mythical island nation of Laskoatu has a rather simple tax code.  The first \\$1000 of income is taxed at 5%.  The next \\$1000 is taxed at 10%.  Any income beyond the first \\$2000 is taxed at 15%.  Complete the following script so that it asks the user for his or her income and outputs the amount of tax owed."
   ]
  },
  {
   "cell_type": "code",
   "execution_count": 10,
   "metadata": {
    "collapsed": false
   },
   "outputs": [
    {
     "name": "stdout",
     "output_type": "stream",
     "text": [
      "Please enter your income:7000\n"
     ]
    }
   ],
   "source": [
    "income = int(input(\"Please enter your income:\"))"
   ]
  },
  {
   "cell_type": "code",
   "execution_count": 14,
   "metadata": {
    "collapsed": false
   },
   "outputs": [
    {
     "name": "stdout",
     "output_type": "stream",
     "text": [
      "Your tax on 7000 is 900.0\n"
     ]
    }
   ],
   "source": [
    "if income > 2000:\n",
    "    tax = 150 + (income-2000)*0.15\n",
    "elif income > 1000:\n",
    "    tax = 50 + (income-1000)*0.1\n",
    "else: \n",
    "    tax = income*0.05\n",
    "print \"Your tax on\", income, \"is\", tax"
   ]
  }
 ],
 "metadata": {
  "kernelspec": {
   "display_name": "Python 2",
   "language": "python",
   "name": "python2"
  },
  "language_info": {
   "codemirror_mode": {
    "name": "ipython",
    "version": 2
   },
   "file_extension": ".py",
   "mimetype": "text/x-python",
   "name": "python",
   "nbconvert_exporter": "python",
   "pygments_lexer": "ipython2",
   "version": "2.7.10"
  }
 },
 "nbformat": 4,
 "nbformat_minor": 0
}
