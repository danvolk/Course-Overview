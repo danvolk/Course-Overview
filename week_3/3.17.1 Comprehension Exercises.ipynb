{
 "cells": [
  {
   "cell_type": "markdown",
   "metadata": {},
   "source": [
    "Use a comprehension to make a list of the square numbers below 100 that give a remainder of 1 when divided by 3."
   ]
  },
  {
   "cell_type": "code",
   "execution_count": 7,
   "metadata": {
    "collapsed": false
   },
   "outputs": [
    {
     "data": {
      "text/plain": [
       "[1, 4, 16, 25, 49, 64]"
      ]
     },
     "execution_count": 7,
     "metadata": {},
     "output_type": "execute_result"
    }
   ],
   "source": [
    "[i**2 for i in range(100) if (i**2)%3==1 and i**2 < 100]"
   ]
  },
  {
   "cell_type": "markdown",
   "metadata": {},
   "source": [
    "A string is defined in the code snippet below.  Split it into individual words and use a comprehension to make a list of the first letters of each word in the snippet."
   ]
  },
  {
   "cell_type": "code",
   "execution_count": 8,
   "metadata": {
    "collapsed": false
   },
   "outputs": [],
   "source": [
    "text = \"\"\"I live my life a quarter mile at a time. \n",
    "Nothing else matters: not the mortgage, not the store, not my team and all their bullshit. \n",
    "For those ten seconds or less, I’m free.\"\"\""
   ]
  },
  {
   "cell_type": "code",
   "execution_count": 11,
   "metadata": {
    "collapsed": false
   },
   "outputs": [
    {
     "data": {
      "text/plain": [
       "['I',\n",
       " 'l',\n",
       " 'm',\n",
       " 'l',\n",
       " 'a',\n",
       " 'q',\n",
       " 'm',\n",
       " 'a',\n",
       " 'a',\n",
       " 't',\n",
       " 'N',\n",
       " 'e',\n",
       " 'm',\n",
       " 'n',\n",
       " 't',\n",
       " 'm',\n",
       " 'n',\n",
       " 't',\n",
       " 's',\n",
       " 'n',\n",
       " 'm',\n",
       " 't',\n",
       " 'a',\n",
       " 'a',\n",
       " 't',\n",
       " 'b',\n",
       " 'F',\n",
       " 't',\n",
       " 't',\n",
       " 's',\n",
       " 'o',\n",
       " 'l',\n",
       " 'I',\n",
       " 'f']"
      ]
     },
     "execution_count": 11,
     "metadata": {},
     "output_type": "execute_result"
    }
   ],
   "source": [
    "[i[0] for i in text.split()]"
   ]
  },
  {
   "cell_type": "markdown",
   "metadata": {},
   "source": [
    "A Pythagorean triple is a set $(x,y,z)$, with positive integers $x \\leq y \\leq z$ such that $x^2 + y^2 = z^2$.  Use a comprehension to make a list of all Pythagorean triples with numbers below 25."
   ]
  },
  {
   "cell_type": "code",
   "execution_count": 14,
   "metadata": {
    "collapsed": false
   },
   "outputs": [
    {
     "data": {
      "text/plain": [
       "[[3, 4, 5], [5, 12, 13], [6, 8, 10], [8, 15, 17], [9, 12, 15], [12, 16, 20]]"
      ]
     },
     "execution_count": 14,
     "metadata": {},
     "output_type": "execute_result"
    }
   ],
   "source": [
    "pythags = [[x, y, z] for x in range(23) for y in range(24) for z in range(25) \n",
    "           if x<y<z and x**2 + y**2 == z**2 ]\n",
    "pythags"
   ]
  },
  {
   "cell_type": "markdown",
   "metadata": {},
   "source": [
    "Given a word, provided below, use a comprehension to make a list of all strings that can be formed by deleting exactly one character from the word."
   ]
  },
  {
   "cell_type": "code",
   "execution_count": 21,
   "metadata": {
    "collapsed": true
   },
   "outputs": [],
   "source": [
    "word = \"Welcomed\""
   ]
  },
  {
   "cell_type": "code",
   "execution_count": 25,
   "metadata": {
    "collapsed": false
   },
   "outputs": [
    {
     "data": {
      "text/plain": [
       "['elcomed',\n",
       " 'Wlcomed',\n",
       " 'Wecomed',\n",
       " 'Welomed',\n",
       " 'Welcmed',\n",
       " 'Welcoed',\n",
       " 'Welcomd',\n",
       " 'Welcome']"
      ]
     },
     "execution_count": 25,
     "metadata": {},
     "output_type": "execute_result"
    }
   ],
   "source": [
    "[word[:i]+word[i+1:] for i in range(len(word))]"
   ]
  },
  {
   "cell_type": "markdown",
   "metadata": {},
   "source": [
    "Given a word, provided below, use a comprehension to make a list of all strings that can be formed by replacing exactly one vowel in the word with a different vowel."
   ]
  },
  {
   "cell_type": "code",
   "execution_count": 26,
   "metadata": {
    "collapsed": true
   },
   "outputs": [],
   "source": [
    "word = \"Booted\""
   ]
  },
  {
   "cell_type": "code",
   "execution_count": 32,
   "metadata": {
    "collapsed": false
   },
   "outputs": [
    {
     "data": {
      "text/plain": [
       "['Baoted',\n",
       " 'Boated',\n",
       " 'Bootad',\n",
       " 'Beoted',\n",
       " 'Boeted',\n",
       " 'Bioted',\n",
       " 'Boited',\n",
       " 'Bootid',\n",
       " 'Bootod',\n",
       " 'Buoted',\n",
       " 'Bouted',\n",
       " 'Bootud']"
      ]
     },
     "execution_count": 32,
     "metadata": {},
     "output_type": "execute_result"
    }
   ],
   "source": [
    "[word[:i] + v + word[i+1:] for v in 'aeiou' for i in range(len(word)) \n",
    " if word[i] in \"aeiouAEIOU\" and v!=word[i]]"
   ]
  },
  {
   "cell_type": "code",
   "execution_count": null,
   "metadata": {
    "collapsed": true
   },
   "outputs": [],
   "source": []
  }
 ],
 "metadata": {
  "kernelspec": {
   "display_name": "Python 3",
   "language": "python",
   "name": "python3"
  },
  "language_info": {
   "codemirror_mode": {
    "name": "ipython",
    "version": 3
   },
   "file_extension": ".py",
   "mimetype": "text/x-python",
   "name": "python",
   "nbconvert_exporter": "python",
   "pygments_lexer": "ipython3",
   "version": "3.6.0"
  }
 },
 "nbformat": 4,
 "nbformat_minor": 0
}
