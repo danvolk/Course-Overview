{
 "cells": [
  {
   "cell_type": "markdown",
   "metadata": {},
   "source": [
    "Write a function, sum_digits which takes an int and returns the sum of its digits.\n",
    "\n",
    "Prompt the user for their phone number, x.  \n",
    "\n",
    "First, using your function, compute x minus the sum of the digits of x and store it in the variable result.\n",
    "\n",
    "Next, if result has more than one digit, replace it by the sum of the digits of result.  Do this repeatedly until the result has just one digit, then display it.  \n",
    "\n",
    "What number do you get?"
   ]
  },
  {
   "cell_type": "code",
   "execution_count": 1,
   "metadata": {
    "collapsed": true
   },
   "outputs": [],
   "source": [
    "def sum_digits(x):\n",
    "    x = str(x)\n",
    "    ans = 0\n",
    "    for i in x:\n",
    "        ans += int(i)\n",
    "    return ans"
   ]
  },
  {
   "cell_type": "code",
   "execution_count": 15,
   "metadata": {
    "collapsed": false
   },
   "outputs": [
    {
     "name": "stdout",
     "output_type": "stream",
     "text": [
      "What is your phone number?6513667784\n",
      "6513667731\n",
      "45\n",
      "9\n"
     ]
    }
   ],
   "source": [
    "x = int(input(\"What is your phone number?\"))\n",
    "result = x - sum_digits(x)\n",
    "while result - 9 > 0:\n",
    "    print(result)\n",
    "    result = sum_digits(result)\n",
    "print(result)"
   ]
  },
  {
   "cell_type": "markdown",
   "metadata": {},
   "source": [
    "Write a function is_consonant() that takes a character and returns True if it is a consonant.\n",
    "\n",
    "Use your function to create a new fuction to_piglatin() that takes a word, moves all starting consonants to the end of the word, then adds ay to the end and returns the result.\n",
    "\n",
    "Prompt the user for their name and display the name in Pig Latin."
   ]
  },
  {
   "cell_type": "code",
   "execution_count": 18,
   "metadata": {
    "collapsed": true
   },
   "outputs": [],
   "source": [
    "def is_consonant(char):\n",
    "    if char in \"aeiouAEIOU\":\n",
    "        ans = False\n",
    "    else:\n",
    "        ans = True\n",
    "    return ans"
   ]
  },
  {
   "cell_type": "code",
   "execution_count": 32,
   "metadata": {
    "collapsed": true
   },
   "outputs": [],
   "source": [
    "def to_piglatin(word):\n",
    "    if is_consonant(word[0]):\n",
    "        word = word.lower()\n",
    "        word = word[1:] + word[0] + \"ay\"\n",
    "        word = word[0].upper() + word[1:]\n",
    "    return word"
   ]
  },
  {
   "cell_type": "code",
   "execution_count": 35,
   "metadata": {
    "collapsed": false
   },
   "outputs": [
    {
     "name": "stdout",
     "output_type": "stream",
     "text": [
      "Enter your name: Daniel\n"
     ]
    },
    {
     "data": {
      "text/plain": [
       "'Anielday'"
      ]
     },
     "execution_count": 35,
     "metadata": {},
     "output_type": "execute_result"
    }
   ],
   "source": [
    "name = input(\"Enter your name: \")\n",
    "to_piglatin(name)    "
   ]
  }
 ],
 "metadata": {
  "kernelspec": {
   "display_name": "Python 3",
   "language": "python",
   "name": "python3"
  },
  "language_info": {
   "codemirror_mode": {
    "name": "ipython",
    "version": 3
   },
   "file_extension": ".py",
   "mimetype": "text/x-python",
   "name": "python",
   "nbconvert_exporter": "python",
   "pygments_lexer": "ipython3",
   "version": "3.6.0"
  }
 },
 "nbformat": 4,
 "nbformat_minor": 0
}
