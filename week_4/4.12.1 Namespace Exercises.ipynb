{
 "cells": [
  {
   "cell_type": "markdown",
   "metadata": {},
   "source": [
    "1. The following script defines a list of customer orders.  Each item in the list is a tuple containing the name of the item, the number requested, and the price per item.\n",
    "\n",
    "Fill in just the process_order function below without changing any other code. This function should remove one of the elements of the order list and print a nice message about it. Finally, make sure that the final print statement correctly displays the total price for the entire list."
   ]
  },
  {
   "cell_type": "code",
   "execution_count": 4,
   "metadata": {
    "collapsed": false
   },
   "outputs": [
    {
     "name": "stdout",
     "output_type": "stream",
     "text": [
      "You purchased 4 oranges at 3.22\n",
      "You purchased 1 gummy bears at 1.99\n",
      "You purchased 3 sour bites at 2.33\n",
      "You purchased 1 antacid at 5.33\n",
      "total price:  27.189999999999998\n"
     ]
    }
   ],
   "source": [
    "total = 0\n",
    "\n",
    "def process_order(x_list):\n",
    "    global x\n",
    "    global total\n",
    "    item = x_list[0]\n",
    "    print(\"You purchased\",item[1],item[0],\"at\",item[2])\n",
    "    total += (item[1]*item[2])\n",
    "    x = x_list[1:]\n",
    "\n",
    "\n",
    "x = [(\"oranges\", 4, 3.22),(\"gummy bears\",1,1.99),(\"sour bites\", 3, 2.33), (\"antacid\", 1, 5.33)]\n",
    "while(len(x)>0):\n",
    "    process_order(x)\n",
    "print(\"total price: \", total)"
   ]
  },
  {
   "cell_type": "code",
   "execution_count": null,
   "metadata": {
    "collapsed": true
   },
   "outputs": [],
   "source": []
  }
 ],
 "metadata": {
  "kernelspec": {
   "display_name": "Python 3",
   "language": "python",
   "name": "python3"
  },
  "language_info": {
   "codemirror_mode": {
    "name": "ipython",
    "version": 3
   },
   "file_extension": ".py",
   "mimetype": "text/x-python",
   "name": "python",
   "nbconvert_exporter": "python",
   "pygments_lexer": "ipython3",
   "version": "3.6.0"
  }
 },
 "nbformat": 4,
 "nbformat_minor": 0
}
